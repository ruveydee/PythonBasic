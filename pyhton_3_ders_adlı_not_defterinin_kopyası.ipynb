{
  "nbformat": 4,
  "nbformat_minor": 0,
  "metadata": {
    "colab": {
      "name": "pyhton 3.ders  adlı not defterinin kopyası",
      "provenance": [],
      "collapsed_sections": [],
      "authorship_tag": "ABX9TyN0RAE5oKqriDBTXfE6sqZH",
      "include_colab_link": true
    },
    "kernelspec": {
      "name": "python3",
      "display_name": "Python 3"
    },
    "language_info": {
      "name": "python"
    }
  },
  "cells": [
    {
      "cell_type": "markdown",
      "metadata": {
        "id": "view-in-github",
        "colab_type": "text"
      },
      "source": [
        "<a href=\"https://colab.research.google.com/github/ruveydee/PythonBeginner/blob/main/pyhton_3_ders_adl%C4%B1_not_defterinin_kopyas%C4%B1.ipynb\" target=\"_parent\"><img src=\"https://colab.research.google.com/assets/colab-badge.svg\" alt=\"Open In Colab\"/></a>"
      ]
    },
    {
      "cell_type": "code",
      "execution_count": null,
      "metadata": {
        "colab": {
          "base_uri": "https://localhost:8080/",
          "height": 35
        },
        "id": "iee-0A_z2AAc",
        "outputId": "0c658937-569f-4eb9-ce5b-eb191bea0912"
      },
      "outputs": [
        {
          "output_type": "execute_result",
          "data": {
            "text/plain": [
              "'3.14'"
            ],
            "application/vnd.google.colaboratory.intrinsic+json": {
              "type": "string"
            }
          },
          "metadata": {},
          "execution_count": 1
        }
      ],
      "source": [
        "str(3.14)  #str komutu herşeyi stringe çevirir."
      ]
    },
    {
      "cell_type": "code",
      "source": [
        "str(False) #boolen False bile stringe çevirdi"
      ],
      "metadata": {
        "colab": {
          "base_uri": "https://localhost:8080/",
          "height": 35
        },
        "id": "zl7ntzzl4yu_",
        "outputId": "e7e0bdd7-8694-498b-f0e0-bc46e3f4ac46"
      },
      "execution_count": null,
      "outputs": [
        {
          "output_type": "execute_result",
          "data": {
            "text/plain": [
              "'False'"
            ],
            "application/vnd.google.colaboratory.intrinsic+json": {
              "type": "string"
            }
          },
          "metadata": {},
          "execution_count": 2
        }
      ]
    },
    {
      "cell_type": "code",
      "source": [
        "\"10\" #string oldu"
      ],
      "metadata": {
        "colab": {
          "base_uri": "https://localhost:8080/",
          "height": 35
        },
        "id": "nWK_cjWi44kE",
        "outputId": "f5885148-f84d-43ce-eb43-b62c6feed157"
      },
      "execution_count": null,
      "outputs": [
        {
          "output_type": "execute_result",
          "data": {
            "text/plain": [
              "'10'"
            ],
            "application/vnd.google.colaboratory.intrinsic+json": {
              "type": "string"
            }
          },
          "metadata": {},
          "execution_count": 3
        }
      ]
    },
    {
      "cell_type": "code",
      "source": [
        "10 #10 burda integer"
      ],
      "metadata": {
        "colab": {
          "base_uri": "https://localhost:8080/"
        },
        "id": "iDF2VbB35TgF",
        "outputId": "6f0a5a45-b970-4387-8950-e3edb331fad7"
      },
      "execution_count": null,
      "outputs": [
        {
          "output_type": "execute_result",
          "data": {
            "text/plain": [
              "10"
            ]
          },
          "metadata": {},
          "execution_count": 4
        }
      ]
    },
    {
      "cell_type": "code",
      "source": [
        "float(11) #tam sayıyı ondalıklı yazar"
      ],
      "metadata": {
        "colab": {
          "base_uri": "https://localhost:8080/"
        },
        "id": "noWDdpkj5Z8K",
        "outputId": "d350521a-8e35-4d19-9fa1-126b920cef34"
      },
      "execution_count": null,
      "outputs": [
        {
          "output_type": "execute_result",
          "data": {
            "text/plain": [
              "11.0"
            ]
          },
          "metadata": {},
          "execution_count": 5
        }
      ]
    },
    {
      "cell_type": "code",
      "source": [
        "float(\"11\") #string olan 11 i floata dönüştürebildi."
      ],
      "metadata": {
        "colab": {
          "base_uri": "https://localhost:8080/"
        },
        "id": "oPdrbtPH6TmJ",
        "outputId": "19abdb72-83a2-473e-9ee2-1da2e55fcadc"
      },
      "execution_count": null,
      "outputs": [
        {
          "output_type": "execute_result",
          "data": {
            "text/plain": [
              "11.0"
            ]
          },
          "metadata": {},
          "execution_count": 6
        }
      ]
    },
    {
      "cell_type": "code",
      "source": [
        "float(\"33.33\") #\"33.33\" string floata dönüştü"
      ],
      "metadata": {
        "colab": {
          "base_uri": "https://localhost:8080/"
        },
        "id": "REQYuS506XHv",
        "outputId": "66e3b897-04d4-4971-c5c1-88364ae8326f"
      },
      "execution_count": null,
      "outputs": [
        {
          "output_type": "execute_result",
          "data": {
            "text/plain": [
              "33.33"
            ]
          },
          "metadata": {},
          "execution_count": 7
        }
      ]
    },
    {
      "cell_type": "code",
      "source": [
        "x=39\n",
        "v=\"11\"\n",
        "y=\"2.5\"\n",
        "z=\"I am at_\"\n",
        "\n",
        "print(x-int(v))\n",
        "print(x-float(y))\n",
        "print(z+str(x))\n",
        "#thats perfect\n",
        "\n"
      ],
      "metadata": {
        "colab": {
          "base_uri": "https://localhost:8080/"
        },
        "id": "iqYH0pYd6b3P",
        "outputId": "18e4298f-5a68-49e8-aef5-1d4aaf841c74"
      },
      "execution_count": null,
      "outputs": [
        {
          "output_type": "stream",
          "name": "stdout",
          "text": [
            "28\n",
            "36.5\n",
            "I am at_39\n"
          ]
        }
      ]
    },
    {
      "cell_type": "code",
      "source": [
        "43//5   #bölümünden tam kısmı alıyor"
      ],
      "metadata": {
        "colab": {
          "base_uri": "https://localhost:8080/"
        },
        "id": "Civ0vLKX7Mts",
        "outputId": "a69bf5c7-756b-4c86-f78c-a7c180b79246"
      },
      "execution_count": null,
      "outputs": [
        {
          "output_type": "execute_result",
          "data": {
            "text/plain": [
              "8"
            ]
          },
          "metadata": {},
          "execution_count": 10
        }
      ]
    },
    {
      "cell_type": "code",
      "source": [
        "print(11/5)  #float sonuç veriyor.\n",
        "print(11//5) #folat vermemesi için // "
      ],
      "metadata": {
        "colab": {
          "base_uri": "https://localhost:8080/"
        },
        "id": "KEwrC69TBw4K",
        "outputId": "73f17fde-b0bf-4f5e-f515-bc5263096863"
      },
      "execution_count": null,
      "outputs": [
        {
          "output_type": "stream",
          "name": "stdout",
          "text": [
            "2.2\n",
            "2\n"
          ]
        }
      ]
    },
    {
      "cell_type": "code",
      "source": [
        "print(11-7)\n",
        "print(4+11.0) #float\n",
        "print(11-7)\n",
        "\n"
      ],
      "metadata": {
        "colab": {
          "base_uri": "https://localhost:8080/"
        },
        "id": "rr47pm83CCMr",
        "outputId": "5bdbfe56-6da7-446e-d52d-78765882b28e"
      },
      "execution_count": null,
      "outputs": [
        {
          "output_type": "stream",
          "name": "stdout",
          "text": [
            "4\n",
            "15.0\n",
            "4\n"
          ]
        }
      ]
    },
    {
      "cell_type": "code",
      "source": [
        "print('4'+4) #it gives us error because of two different operations(string and integer).\n"
      ],
      "metadata": {
        "id": "g_KrtetKD64k"
      },
      "execution_count": null,
      "outputs": []
    },
    {
      "cell_type": "code",
      "source": [
        "pi=3.14\n",
        "r=5\n",
        "area=pi*r*r\n",
        "area\n"
      ],
      "metadata": {
        "colab": {
          "base_uri": "https://localhost:8080/"
        },
        "id": "gULA8Xc9FMJ3",
        "outputId": "249e1ee5-2e24-46d0-9884-7a5d53f3355c"
      },
      "execution_count": null,
      "outputs": [
        {
          "output_type": "execute_result",
          "data": {
            "text/plain": [
              "78.5"
            ]
          },
          "metadata": {},
          "execution_count": 23
        }
      ]
    },
    {
      "cell_type": "code",
      "source": [
        "print(11%2)      #remaind division of 11\n",
        "print((4*5)/2)   #the resault is float due to one /\n",
        "print((4*5)//2)  # here operatin gives me integer because of two // "
      ],
      "metadata": {
        "colab": {
          "base_uri": "https://localhost:8080/"
        },
        "id": "0rWDRcMEFQ63",
        "outputId": "907db4c3-c052-48f2-eb75-d29799e656d9"
      },
      "execution_count": null,
      "outputs": [
        {
          "output_type": "stream",
          "name": "stdout",
          "text": [
            "1\n",
            "10.0\n",
            "10\n"
          ]
        }
      ]
    },
    {
      "cell_type": "code",
      "source": [
        "print(2**3) #2 to the power of 3 \n",
        "print(3**2) #square of 3 \n",
        "a=2\n",
        "b=8\n",
        "print((a*b)**0.5) #square root ! attention if any operate is float then the output is float certainly"
      ],
      "metadata": {
        "colab": {
          "base_uri": "https://localhost:8080/"
        },
        "id": "SMEa1JT2Fq6X",
        "outputId": "8ebd094c-02df-480d-ae4a-7ba65e70d7b8"
      },
      "execution_count": null,
      "outputs": [
        {
          "output_type": "stream",
          "name": "stdout",
          "text": [
            "8\n",
            "9\n",
            "4.0\n"
          ]
        }
      ]
    },
    {
      "cell_type": "code",
      "source": [
        "değişken1=10"
      ],
      "metadata": {
        "id": "MSt7wARhHeTg"
      },
      "execution_count": null,
      "outputs": []
    },
    {
      "cell_type": "code",
      "source": [
        "değişken1=değişken1+1  #yeni değişken +1 eklenmiş olacak\n"
      ],
      "metadata": {
        "id": "dk0fzlkIsGLp"
      },
      "execution_count": null,
      "outputs": []
    },
    {
      "cell_type": "code",
      "source": [
        "değişken1 "
      ],
      "metadata": {
        "colab": {
          "base_uri": "https://localhost:8080/"
        },
        "id": "DAsdC7CxtNfd",
        "outputId": "c20ae827-b88d-4232-92f5-814d80add04f"
      },
      "execution_count": null,
      "outputs": [
        {
          "output_type": "execute_result",
          "data": {
            "text/plain": [
              "11"
            ]
          },
          "metadata": {},
          "execution_count": 40
        }
      ]
    },
    {
      "cell_type": "code",
      "source": [
        "değişken2=5"
      ],
      "metadata": {
        "id": "mxLZRCuvtO6t"
      },
      "execution_count": null,
      "outputs": []
    },
    {
      "cell_type": "code",
      "source": [
        "değişken2=değişken2*2 #değişken2 ye yeni değer atatık operation ile"
      ],
      "metadata": {
        "id": "wE3R9xy0tTJH"
      },
      "execution_count": null,
      "outputs": []
    },
    {
      "cell_type": "code",
      "source": [
        "değişken2"
      ],
      "metadata": {
        "colab": {
          "base_uri": "https://localhost:8080/"
        },
        "id": "F-NNpVTOtXGF",
        "outputId": "3684aa04-8b8d-46b9-ee6d-177b3ad93076"
      },
      "execution_count": null,
      "outputs": [
        {
          "output_type": "execute_result",
          "data": {
            "text/plain": [
              "10"
            ]
          },
          "metadata": {},
          "execution_count": 45
        }
      ]
    },
    {
      "cell_type": "code",
      "source": [
        "değişken2*=2 #*= kullanmak and değişken=değişken*2 are the same."
      ],
      "metadata": {
        "id": "TkhswydEtcxt"
      },
      "execution_count": null,
      "outputs": []
    },
    {
      "cell_type": "code",
      "source": [
        "değişken2    #ve her seferinde değişkeni döndürür.uptade dir."
      ],
      "metadata": {
        "colab": {
          "base_uri": "https://localhost:8080/"
        },
        "id": "8CkCHDFLtyQm",
        "outputId": "bd43149b-4ddc-4fe3-9bf8-212532af1690"
      },
      "execution_count": null,
      "outputs": [
        {
          "output_type": "execute_result",
          "data": {
            "text/plain": [
              "20"
            ]
          },
          "metadata": {},
          "execution_count": 47
        }
      ]
    },
    {
      "cell_type": "code",
      "source": [
        " a=8\n",
        " b=2"
      ],
      "metadata": {
        "id": "iy9uK3cIt1mH"
      },
      "execution_count": null,
      "outputs": []
    },
    {
      "cell_type": "code",
      "source": [
        "a+=b #a ya yeni işlemle değer atadık."
      ],
      "metadata": {
        "id": "RJvJDkigupDH"
      },
      "execution_count": null,
      "outputs": []
    },
    {
      "cell_type": "code",
      "source": [
        "a"
      ],
      "metadata": {
        "colab": {
          "base_uri": "https://localhost:8080/"
        },
        "id": "oowhOxxFusjW",
        "outputId": "89d84ca9-0c8f-43f6-dd55-f99f441b480f"
      },
      "execution_count": null,
      "outputs": [
        {
          "output_type": "execute_result",
          "data": {
            "text/plain": [
              "10"
            ]
          },
          "metadata": {},
          "execution_count": 50
        }
      ]
    },
    {
      "cell_type": "code",
      "source": [
        " a=3\n",
        " b=4\n",
        " hypotenuse=(a**2+b**2)**0.5 "
      ],
      "metadata": {
        "id": "rRgS7vSnuvV6"
      },
      "execution_count": null,
      "outputs": []
    },
    {
      "cell_type": "code",
      "source": [
        "print(hypotenuse) #sonuç flot değer çıktı **0.5 den dolayı."
      ],
      "metadata": {
        "colab": {
          "base_uri": "https://localhost:8080/"
        },
        "id": "LUGvgicFxHZq",
        "outputId": "96c7a905-f22f-4cbd-f4b3-fc778828f54c"
      },
      "execution_count": null,
      "outputs": [
        {
          "output_type": "stream",
          "name": "stdout",
          "text": [
            "5.0\n"
          ]
        }
      ]
    },
    {
      "cell_type": "code",
      "source": [
        "print(\"sadık\")\n",
        "print(\"rüveyde\", \"ali\")\n",
        "print(\"vehbi\", \"üsame\", 35)\n",
        "print(a, False, \"songül\", 3.14)"
      ],
      "metadata": {
        "colab": {
          "base_uri": "https://localhost:8080/"
        },
        "id": "WHHjPoqgxLeW",
        "outputId": "1903376d-e1c2-46ba-cad8-cf4d40931b17"
      },
      "execution_count": null,
      "outputs": [
        {
          "output_type": "stream",
          "name": "stdout",
          "text": [
            "sadık\n",
            "rüveyde ali\n",
            "vehbi üsame 35\n",
            "3 False songül 3.14\n"
          ]
        }
      ]
    },
    {
      "cell_type": "code",
      "source": [
        "print(b, False, \"ahmet\", 3.14, sep=\" \")  #sep=' ' iki tırnak içi boşluk olduğu için kelimeler arası boşluk oldu."
      ],
      "metadata": {
        "colab": {
          "base_uri": "https://localhost:8080/"
        },
        "id": "F2uTzChzzNZ7",
        "outputId": "450f943c-6b99-4d31-e1a6-b3d17bb26725"
      },
      "execution_count": null,
      "outputs": [
        {
          "output_type": "stream",
          "name": "stdout",
          "text": [
            "4 False ahmet 3.14\n"
          ]
        }
      ]
    },
    {
      "cell_type": "code",
      "source": [
        "print(b, False, \"ahmet\", 3.14, sep=\"*\")  #iki tırnak arası * olduğu için kelimeler arası yıldızlı"
      ],
      "metadata": {
        "colab": {
          "base_uri": "https://localhost:8080/"
        },
        "id": "BbEJ9YY70pNi",
        "outputId": "c2906050-a81a-4b43-a01b-eacf372050d6"
      },
      "execution_count": null,
      "outputs": [
        {
          "output_type": "stream",
          "name": "stdout",
          "text": [
            "4*False*ahmet*3.14\n"
          ]
        }
      ]
    },
    {
      "cell_type": "code",
      "source": [
        "print(b, False, \"ahmet\", 3.14, sep=\"\").  #hiç boşluk yok \"\""
      ],
      "metadata": {
        "colab": {
          "base_uri": "https://localhost:8080/"
        },
        "id": "WUnGku7V1SIb",
        "outputId": "a5309435-0b3a-486b-d483-c774fdcab3ad"
      },
      "execution_count": null,
      "outputs": [
        {
          "output_type": "stream",
          "name": "stdout",
          "text": [
            "4Falseahmet3.14\n"
          ]
        }
      ]
    },
    {
      "cell_type": "code",
      "source": [
        "print(\"ali\", end=\" \")    # end=\" \" boşluklu end parametresi bir alt satıra geçirmedi \n",
        "print(\"rüveyde\", \"evli\") #bu sayede cümle devam etti"
      ],
      "metadata": {
        "colab": {
          "base_uri": "https://localhost:8080/"
        },
        "id": "bm9-23dd1pLZ",
        "outputId": "9937932b-c58b-46d3-a1a1-af3c0e1c17c5"
      },
      "execution_count": null,
      "outputs": [
        {
          "output_type": "stream",
          "name": "stdout",
          "text": [
            "ali rüveyde evli\n"
          ]
        }
      ]
    },
    {
      "cell_type": "code",
      "source": [
        "'''The End'''"
      ],
      "metadata": {
        "id": "wrUiuoB22H3F"
      },
      "execution_count": null,
      "outputs": []
    }
  ]
}