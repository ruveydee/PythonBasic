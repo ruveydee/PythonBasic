{
  "nbformat": 4,
  "nbformat_minor": 0,
  "metadata": {
    "colab": {
      "name": "pyhton_5_ders.ipynb",
      "provenance": [],
      "collapsed_sections": [],
      "authorship_tag": "ABX9TyNlRqmO0XueQY+lGlErR2ZA",
      "include_colab_link": true
    },
    "kernelspec": {
      "name": "python3",
      "display_name": "Python 3"
    },
    "language_info": {
      "name": "python"
    }
  },
  "cells": [
    {
      "cell_type": "markdown",
      "metadata": {
        "id": "view-in-github",
        "colab_type": "text"
      },
      "source": [
        "<a href=\"https://colab.research.google.com/github/ruveydee/PythonBeginner/blob/main/pyhton_5_ders.ipynb\" target=\"_parent\"><img src=\"https://colab.research.google.com/assets/colab-badge.svg\" alt=\"Open In Colab\"/></a>"
      ]
    },
    {
      "cell_type": "code",
      "execution_count": null,
      "metadata": {
        "colab": {
          "base_uri": "https://localhost:8080/",
          "height": 35
        },
        "id": "9af8s3JHO5g4",
        "outputId": "bd621c30-ea0f-44a5-b57e-d75f05e51ebe"
      },
      "outputs": [
        {
          "output_type": "execute_result",
          "data": {
            "text/plain": [
              "'Benim güzel öğrencilerimin maşallahı var mi acaba '"
            ],
            "application/vnd.google.colaboratory.intrinsic+json": {
              "type": "string"
            }
          },
          "metadata": {},
          "execution_count": 3
        }
      ],
      "source": [
        "\"Benim {} öğrencilerimin maşallahı var {} \".format(\"güzel\", \"mi acaba\")"
      ]
    },
    {
      "cell_type": "code",
      "source": [
        "stringim=\"Benim {} öğrencilerimin maşallahı var {} \""
      ],
      "metadata": {
        "id": "vajoBgaCQGdg"
      },
      "execution_count": null,
      "outputs": []
    },
    {
      "cell_type": "code",
      "source": [
        "stringim.format(\"güzel\", \"mi acaba\")"
      ],
      "metadata": {
        "colab": {
          "base_uri": "https://localhost:8080/",
          "height": 35
        },
        "id": "Sh3hKQZyQh_G",
        "outputId": "87d5e95b-008e-4ecf-fadc-2b9ab74f5006"
      },
      "execution_count": null,
      "outputs": [
        {
          "output_type": "execute_result",
          "data": {
            "text/plain": [
              "'Benim güzel öğrencilerimin maşallahı var mi acaba '"
            ],
            "application/vnd.google.colaboratory.intrinsic+json": {
              "type": "string"
            }
          },
          "metadata": {},
          "execution_count": 5
        }
      ]
    },
    {
      "cell_type": "code",
      "source": [
        "a=3\n",
        "b=4\n",
        "\n",
        "print(\"the sum of {} + {} is: {}\".format(a, b, a+b))"
      ],
      "metadata": {
        "colab": {
          "base_uri": "https://localhost:8080/"
        },
        "id": "QlK5xUPxQrmV",
        "outputId": "da618fd5-9966-42dc-ad6f-e6bd7e0b8732"
      },
      "execution_count": null,
      "outputs": [
        {
          "output_type": "stream",
          "name": "stdout",
          "text": [
            "the sum of 3 + 4 is: 7\n"
          ]
        }
      ]
    },
    {
      "cell_type": "code",
      "source": [
        "#format içine string integer işlem yaptırabiliyorum "
      ],
      "metadata": {
        "id": "moSQDjOxVIol"
      },
      "execution_count": null,
      "outputs": []
    },
    {
      "cell_type": "code",
      "source": [
        "x=2\n",
        "y=3\n",
        "\n",
        "print(\"The power of {} to {} is : {}.\".format(2,3,x**y))"
      ],
      "metadata": {
        "colab": {
          "base_uri": "https://localhost:8080/"
        },
        "id": "e7z-sM89VqDi",
        "outputId": "c980124d-e0d8-45c7-92be-d24f65ddcde7"
      },
      "execution_count": null,
      "outputs": [
        {
          "output_type": "stream",
          "name": "stdout",
          "text": [
            "The power of 2 to 3 is : 8.\n"
          ]
        }
      ]
    },
    {
      "cell_type": "code",
      "source": [
        "#f'string {v1} string {v2}' f-string metodu"
      ],
      "metadata": {
        "id": "Scs-wIo4WCQs"
      },
      "execution_count": null,
      "outputs": []
    },
    {
      "cell_type": "code",
      "source": [
        "name= \"MARİAM\"\n",
        "name=name.capitalize()\n",
        "name"
      ],
      "metadata": {
        "colab": {
          "base_uri": "https://localhost:8080/",
          "height": 35
        },
        "id": "EKXCEETKZlBm",
        "outputId": "64eaa877-d32a-4a74-a211-679981737898"
      },
      "execution_count": null,
      "outputs": [
        {
          "output_type": "execute_result",
          "data": {
            "text/plain": [
              "'Mari̇am'"
            ],
            "application/vnd.google.colaboratory.intrinsic+json": {
              "type": "string"
            }
          },
          "metadata": {},
          "execution_count": 10
        }
      ]
    },
    {
      "cell_type": "code",
      "source": [
        "output= f\"My name is {name} \"\n",
        "output"
      ],
      "metadata": {
        "colab": {
          "base_uri": "https://localhost:8080/",
          "height": 35
        },
        "id": "Wut9YDMma8R5",
        "outputId": "959e096b-bcf0-46be-9b8e-2b0b01f1baf3"
      },
      "execution_count": null,
      "outputs": [
        {
          "output_type": "execute_result",
          "data": {
            "text/plain": [
              "'My name is Mari̇am '"
            ],
            "application/vnd.google.colaboratory.intrinsic+json": {
              "type": "string"
            }
          },
          "metadata": {},
          "execution_count": 11
        }
      ]
    },
    {
      "cell_type": "code",
      "source": [
        "f\"My name is {name.capitalize()} \" #süslü parantez içinde "
      ],
      "metadata": {
        "colab": {
          "base_uri": "https://localhost:8080/",
          "height": 35
        },
        "id": "dnYaGoeTbi39",
        "outputId": "537662a7-ed5d-4b36-ac5b-6855b4c840eb"
      },
      "execution_count": null,
      "outputs": [
        {
          "output_type": "execute_result",
          "data": {
            "text/plain": [
              "'My name is Mari̇am '"
            ],
            "application/vnd.google.colaboratory.intrinsic+json": {
              "type": "string"
            }
          },
          "metadata": {},
          "execution_count": 12
        }
      ]
    },
    {
      "cell_type": "code",
      "source": [
        "name= \"rüveyde\"\n",
        "job=\"student\"\n",
        "domain=\"Data Science\"\n",
        "message=(\n",
        "    f\"Hi {name}.\"\n",
        "    f\"You are one of the {job} \"\n",
        "    f\"in the {domain} section. \"\n",
        ")\n",
        "print(message)\n"
      ],
      "metadata": {
        "colab": {
          "base_uri": "https://localhost:8080/"
        },
        "id": "aBnr5Luhb51u",
        "outputId": "b8e59d8d-6bb6-4977-8a5e-516ac9917ff0"
      },
      "execution_count": null,
      "outputs": [
        {
          "output_type": "stream",
          "name": "stdout",
          "text": [
            "Hi rüveyde.You are one of the student in the Data Science section. \n"
          ]
        }
      ]
    },
    {
      "cell_type": "code",
      "source": [
        "name= \"Susan\"\n",
        "age= \"young\"\n",
        "gender= \"lady\"\n",
        "school = \"CLRWY IT university\"\n",
        "task= (\n",
        "    f\"{name} is a {age} \"\n",
        "    f\"{gender} and she is a student\"\n",
        "    f\" at the {school}.\"\n",
        ")\n",
        "task "
      ],
      "metadata": {
        "colab": {
          "base_uri": "https://localhost:8080/",
          "height": 35
        },
        "id": "PZWDquHEdT7e",
        "outputId": "454e3fec-50d6-4144-aa71-0e6eb4dc54df"
      },
      "execution_count": null,
      "outputs": [
        {
          "output_type": "execute_result",
          "data": {
            "text/plain": [
              "'Susan is a young lady and she is a student at the CLRWY IT university.'"
            ],
            "application/vnd.google.colaboratory.intrinsic+json": {
              "type": "string"
            }
          },
          "metadata": {},
          "execution_count": 20
        }
      ]
    },
    {
      "cell_type": "code",
      "source": [
        "course= 'ClarusWay'\n",
        "print(course.lower()).    #lower methodu tüm harfeleri küçük yapar.\n",
        "print(course)\n",
        "course='ClarusWay'.lower()\n",
        "print(course)"
      ],
      "metadata": {
        "colab": {
          "base_uri": "https://localhost:8080/"
        },
        "id": "h-PuL6Ahf_Gb",
        "outputId": "bbfb50f3-77b4-47c8-8a4b-6e3f084b632b"
      },
      "execution_count": null,
      "outputs": [
        {
          "output_type": "stream",
          "name": "stdout",
          "text": [
            "clarusway\n",
            "ClarusWay\n",
            "clarusway\n"
          ]
        }
      ]
    },
    {
      "cell_type": "code",
      "source": [
        "adım=\"RüveydE aLi\" \n",
        "adım.swapcase()"
      ],
      "metadata": {
        "colab": {
          "base_uri": "https://localhost:8080/",
          "height": 35
        },
        "id": "qJ1Yrgg2jWFp",
        "outputId": "c4d20b92-fa57-4d9d-c712-d8f0caeca672"
      },
      "execution_count": null,
      "outputs": [
        {
          "output_type": "execute_result",
          "data": {
            "text/plain": [
              "'rÜVEYDe AlI'"
            ],
            "application/vnd.google.colaboratory.intrinsic+json": {
              "type": "string"
            }
          },
          "metadata": {},
          "execution_count": 25
        }
      ]
    },
    {
      "cell_type": "code",
      "source": [
        "adım"
      ],
      "metadata": {
        "colab": {
          "base_uri": "https://localhost:8080/",
          "height": 35
        },
        "id": "TLO4oomtr4vg",
        "outputId": "ed701425-7984-4899-9b96-05e144ed642d"
      },
      "execution_count": null,
      "outputs": [
        {
          "output_type": "execute_result",
          "data": {
            "text/plain": [
              "'RüveydE aLi'"
            ],
            "application/vnd.google.colaboratory.intrinsic+json": {
              "type": "string"
            }
          },
          "metadata": {},
          "execution_count": 26
        }
      ]
    },
    {
      "cell_type": "code",
      "source": [
        "adım=adım.swapcase()\n",
        "adım"
      ],
      "metadata": {
        "colab": {
          "base_uri": "https://localhost:8080/",
          "height": 35
        },
        "id": "g7dVMkh9r_Bd",
        "outputId": "b159d540-b4f2-4441-958c-fec70277e5ad"
      },
      "execution_count": null,
      "outputs": [
        {
          "output_type": "execute_result",
          "data": {
            "text/plain": [
              "'RüveydE aLi'"
            ],
            "application/vnd.google.colaboratory.intrinsic+json": {
              "type": "string"
            }
          },
          "metadata": {},
          "execution_count": 28
        }
      ]
    }
  ]
}